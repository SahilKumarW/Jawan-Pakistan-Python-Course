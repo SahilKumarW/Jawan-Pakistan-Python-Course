{
 "cells": [
  {
   "cell_type": "code",
   "execution_count": 1,
   "id": "de4fd262",
   "metadata": {},
   "outputs": [
    {
     "name": "stdout",
     "output_type": "stream",
     "text": [
      "ARITHMETIC CALCULATOR\n",
      "=====================\n",
      "Enter what operation you want to perform..\n",
      "1. Addition\n",
      "2. Subtraction\n",
      "3. Multiplication\n",
      "4. Division\n",
      "5. Power\n",
      "\n",
      "Your Choice: 4\n",
      "\n",
      "Enter operand (1): 56\n",
      "Enter operand (2): 8\n",
      "\n",
      "Answer =  7.0\n"
     ]
    }
   ],
   "source": [
    "# QUESTION NO. 1\n",
    "\n",
    "print(\"ARITHMETIC CALCULATOR\")\n",
    "print(\"=====================\")\n",
    "print(\"Enter what operation you want to perform..\")\n",
    "print(\"1. Addition\\n2. Subtraction\\n3. Multiplication\\n4. Division\\n5. Power\\n\")\n",
    "choice = int(input(\"Your Choice: \"))\n",
    "if (choice == 1):\n",
    "    a = float(input(\"\\nEnter operand (1): \"))\n",
    "    b = float(input(\"Enter operand (2): \"))\n",
    "    print(\"\\nAnswer = \", a + b)\n",
    "elif (choice == 2):\n",
    "    a = float(input(\"\\nEnter operand (1): \"))\n",
    "    b = float(input(\"Enter operand (2): \"))\n",
    "    print(\"\\nAnswer = \", a - b)\n",
    "elif (choice == 3):\n",
    "    a = float(input(\"\\nEnter operand (1): \"))\n",
    "    b = float(input(\"Enter operand (2): \"))\n",
    "    print(\"\\nAnswer = \", a * b)\n",
    "elif (choice == 4):\n",
    "    a = float(input(\"\\nEnter operand (1): \"))\n",
    "    b = float(input(\"Enter operand (2): \"))\n",
    "    print(\"\\nAnswer = \", a / b)\n",
    "elif (choice == 5):\n",
    "    a = float(input(\"\\nEnter base: \"))\n",
    "    b = float(input(\"Enter exponent: \"))\n",
    "    from math import*\n",
    "    print(\"\\nAnswer = \", pow(a,b))"
   ]
  },
  {
   "cell_type": "code",
   "execution_count": 2,
   "id": "501e46e4",
   "metadata": {},
   "outputs": [
    {
     "name": "stdout",
     "output_type": "stream",
     "text": [
      "18\n",
      "3.0\n",
      "4.5\n"
     ]
    }
   ],
   "source": [
    "# QUESTION NO. 2\n",
    "\n",
    "myList = [\"Sahil\", 18, \"Kumar\", \"Python\", 3.0, 4.5, \"Months\", \"Course\"]\n",
    "for i in myList:\n",
    "    if type(i) == int or type(i) == float:\n",
    "        print(i)"
   ]
  },
  {
   "cell_type": "code",
   "execution_count": 3,
   "id": "802000c0",
   "metadata": {},
   "outputs": [
    {
     "name": "stdout",
     "output_type": "stream",
     "text": [
      "Before update :  {20: 21}\n",
      "After  update :  {20: 21, 22: 23, 24: 25, 26: 27}\n"
     ]
    }
   ],
   "source": [
    "# QUESTION NO. 3\n",
    "\n",
    "myDictionary = {20:21}\n",
    "updatevalues = {22:23,24:25,26:27}\n",
    "print(\"Before update : \", myDictionary)\n",
    "\n",
    "myDictionary.update(updatevalues)\n",
    "print(\"After  update : \", myDictionary)"
   ]
  },
  {
   "cell_type": "code",
   "execution_count": 4,
   "id": "54f02d0b",
   "metadata": {},
   "outputs": [
    {
     "name": "stdout",
     "output_type": "stream",
     "text": [
      "Sum : 290\n"
     ]
    }
   ],
   "source": [
    "# QUESTION NO. 4\n",
    "\n",
    "dict = {'a': 10, 'b':250, 'c':30}\n",
    "def returnSum(dict):\n",
    "    sum = 0\n",
    "    for i in dict:\n",
    "        sum = sum + dict[i]\n",
    "    return sum\n",
    "print(\"Sum :\", returnSum(dict))"
   ]
  },
  {
   "cell_type": "code",
   "execution_count": 5,
   "id": "d436b1f9",
   "metadata": {},
   "outputs": [
    {
     "name": "stdout",
     "output_type": "stream",
     "text": [
      "Original List:  [3, 6, 9, 12, 3, 30, 15, 9, 45, 36, 12, 12]\n",
      "Duplicate Elements:  [3, 9, 12]\n"
     ]
    }
   ],
   "source": [
    "# QUESTION NO. 5\n",
    "\n",
    "list = [3, 6, 9, 12, 3, 30, 15, 9, 45, 36, 12, 12]\n",
    "dupItems = []\n",
    "uniqueItems = {}\n",
    "for x in list:\n",
    "   if x not in uniqueItems:\n",
    "      uniqueItems[x] = 1\n",
    "   else:\n",
    "      if uniqueItems[x] == 1:\n",
    "         dupItems.append(x)\n",
    "      uniqueItems[x] += 1\n",
    "print(\"Original List: \", list)\n",
    "print(\"Duplicate Elements: \", dupItems)"
   ]
  },
  {
   "cell_type": "code",
   "execution_count": 6,
   "id": "d67aa9b4",
   "metadata": {},
   "outputs": [
    {
     "name": "stdout",
     "output_type": "stream",
     "text": [
      "The weekdays are :  {'Monday': 1, 'Tuesday': 2, 'Wednesday': 3, 'Thursday': 4, 'Friday': 5}\n",
      "Enter a day to check its presence in Weekdays.. Saturday\n",
      "Saturday is not a part of Weekdays!\n"
     ]
    }
   ],
   "source": [
    "# QUESTION NO. 6\n",
    "\n",
    "weekdays = {'Monday':1,'Tuesday':2,'Wednesday':3,'Thursday':4, 'Friday':5}\n",
    "print(\"The weekdays are : \", weekdays)\n",
    "check_day = str(input(\"Enter a day to check its presence in Weekdays.. \"))\n",
    "if check_day in weekdays:\n",
    "   print(check_day,\"is a part of Weekdays!\")\n",
    "else:\n",
    "   print(check_day,\"is not a part of Weekdays!\")"
   ]
  }
 ],
 "metadata": {
  "kernelspec": {
   "display_name": "Python 3",
   "language": "python",
   "name": "python3"
  },
  "language_info": {
   "codemirror_mode": {
    "name": "ipython",
    "version": 3
   },
   "file_extension": ".py",
   "mimetype": "text/x-python",
   "name": "python",
   "nbconvert_exporter": "python",
   "pygments_lexer": "ipython3",
   "version": "3.8.8"
  }
 },
 "nbformat": 4,
 "nbformat_minor": 5
}
